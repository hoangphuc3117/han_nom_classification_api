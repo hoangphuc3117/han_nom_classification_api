{
 "cells": [
  {
   "cell_type": "code",
   "execution_count": 12,
   "id": "56221492",
   "metadata": {},
   "outputs": [
    {
     "name": "stderr",
     "output_type": "stream",
     "text": [
      "Matplotlib is building the font cache; this may take a moment.\n"
     ]
    }
   ],
   "source": [
    "import requests\n",
    "import json\n",
    "import os\n",
    "from PIL import Image\n",
    "import matplotlib.pyplot as plt"
   ]
  },
  {
   "cell_type": "markdown",
   "id": "b308ed20",
   "metadata": {},
   "source": [
    "# Docker API Testing Notebook\n",
    "\n",
    "This notebook helps you test the Han Nom Classification API running in Docker containers.\n",
    "\n",
    "## Docker Setup Options:\n",
    "1. **Development Mode**: Hot reload, port 8001\n",
    "2. **Production Mode**: Optimized build, port 8000\n",
    "3. **Docker Compose**: Full stack with nginx"
   ]
  },
  {
   "cell_type": "code",
   "execution_count": null,
   "id": "a0f30e70",
   "metadata": {},
   "outputs": [],
   "source": [
    "def test_detect_layout(image_path, api_url=\"http://127.0.0.1:8000/detect-layout\"):\n",
    "    \"\"\"\n",
    "    Simple function to test layout detection API\n",
    "    \n",
    "    Args:\n",
    "        image_path: Path to the image file\n",
    "        api_url: API endpoint URL\n",
    "    \n",
    "    Returns:\n",
    "        Response JSON or None if failed\n",
    "    \"\"\"\n",
    "    print(f\"🔍 Testing Layout Detection API\")\n",
    "    print(f\"Image: {os.path.basename(image_path)}\")\n",
    "    print(\"-\" * 40)\n",
    "    \n",
    "    # Check if image exists\n",
    "    if not os.path.exists(image_path):\n",
    "        print(f\"❌ Image file not found: {image_path}\")\n",
    "        return None\n",
    "    \n",
    "    # try:\n",
    "    # Upload image to API\n",
    "    with open(image_path, 'rb') as f:\n",
    "        files = {'file': (os.path.basename(image_path), f, 'image/jpeg')}\n",
    "        response = requests.post(api_url, files=files)\n",
    "    \n",
    "    # Check response\n",
    "    if response.status_code == 200:\n",
    "        result = response.json()\n",
    "        print(\"✅ API Request Successful!\")\n",
    "        print(f\"Response: {result}\")\n",
    "        # Show image\n",
    "        img = Image.open(image_path)\n",
    "        plt.figure(figsize=(10, 6))\n",
    "        plt.imshow(img)\n",
    "        plt.title(f\"Input Image: {os.path.basename(image_path)}\")\n",
    "        plt.axis('off')\n",
    "        plt.show()\n",
    "        \n",
    "        return result\n",
    "    else:\n",
    "        print(f\"❌ API Request Failed!\")\n",
    "        print(f\"Status Code: {response.status_code}\")\n",
    "        print(f\"Response: {response.text}\")\n",
    "        return None\n",
    "            \n",
    "    # except Exception as e:\n",
    "    #     print(f\"❌ Error: {str(e)}\")\n",
    "    #     return None"
   ]
  },
  {
   "cell_type": "code",
   "execution_count": 23,
   "id": "dccb00ab",
   "metadata": {},
   "outputs": [
    {
     "name": "stdout",
     "output_type": "stream",
     "text": [
      "-rw-------  1 phuchoang  staff  92544 Jul 29 10:43 /Users/phuchoang/Desktop/z6851745308109_ec7ff0bff130950ef37f598b1e0d7097.jpg\n"
     ]
    }
   ],
   "source": [
    "ls -la \"/Users/phuchoang/Desktop/z6851745308109_ec7ff0bff130950ef37f598b1e0d7097.jpg\""
   ]
  },
  {
   "cell_type": "code",
   "execution_count": 29,
   "id": "ab415d07",
   "metadata": {},
   "outputs": [
    {
     "name": "stdout",
     "output_type": "stream",
     "text": [
      "🔍 Testing Layout Detection API\n",
      "Image: z6851745308109_ec7ff0bff130950ef37f598b1e0d7097.jpg\n",
      "----------------------------------------\n",
      "❌ Error: [Errno 1] Operation not permitted: '/Users/phuchoang/Desktop/z6851745308109_ec7ff0bff130950ef37f598b1e0d7097.jpg'\n"
     ]
    }
   ],
   "source": [
    "test_detect_layout(\"/Users/phuchoang/Desktop/z6851745308109_ec7ff0bff130950ef37f598b1e0d7097.jpg\")  # Replace with your image file path"
   ]
  },
  {
   "cell_type": "markdown",
   "id": "edee5e84",
   "metadata": {},
   "source": [
    "## Docker Commands\n",
    "\n",
    "Here are the main commands to run the Docker containers:\n",
    "\n",
    "### Quick Start Commands:\n",
    "\n",
    "```bash\n",
    "# Development mode (with hot reload)\n",
    "make dev-setup\n",
    "\n",
    "# Production mode\n",
    "make prod-setup\n",
    "\n",
    "# Using docker-compose\n",
    "make docker-compose-up\n",
    "```\n",
    "\n",
    "### Manual Docker Commands:\n",
    "\n",
    "```bash\n",
    "# Build and run development\n",
    "make build-dev\n",
    "make run-dev\n",
    "\n",
    "# Build and run production  \n",
    "make build\n",
    "make run\n",
    "\n",
    "# Stop containers\n",
    "make stop\n",
    "\n",
    "# View logs\n",
    "make logs\n",
    "\n",
    "# Clean up\n",
    "make clean\n",
    "```"
   ]
  },
  {
   "cell_type": "code",
   "execution_count": null,
   "id": "ef557e40",
   "metadata": {},
   "outputs": [],
   "source": [
    "# Check Docker container status\n",
    "check_docker_status()"
   ]
  },
  {
   "cell_type": "markdown",
   "id": "834f3b20",
   "metadata": {},
   "source": [
    "## Troubleshooting\n",
    "\n",
    "If the API tests fail, try these steps:\n",
    "\n",
    "1. **Check if Docker is running:**\n",
    "   ```bash\n",
    "   docker --version\n",
    "   docker ps\n",
    "   ```\n",
    "\n",
    "2. **Start the containers:**\n",
    "   ```bash\n",
    "   # Development mode\n",
    "   make dev-setup\n",
    "   \n",
    "   # Or production mode\n",
    "   make prod-setup\n",
    "   ```\n",
    "\n",
    "3. **Check container logs:**\n",
    "   ```bash\n",
    "   make logs\n",
    "   ```\n",
    "\n",
    "4. **Restart containers:**\n",
    "   ```bash\n",
    "   make stop\n",
    "   make dev-setup  # or prod-setup\n",
    "   ```\n",
    "\n",
    "5. **Check container health:**\n",
    "   ```bash\n",
    "   make health\n",
    "   ```"
   ]
  }
 ],
 "metadata": {
  "kernelspec": {
   "display_name": ".venv",
   "language": "python",
   "name": "python3"
  },
  "language_info": {
   "codemirror_mode": {
    "name": "ipython",
    "version": 3
   },
   "file_extension": ".py",
   "mimetype": "text/x-python",
   "name": "python",
   "nbconvert_exporter": "python",
   "pygments_lexer": "ipython3",
   "version": "3.13.3"
  }
 },
 "nbformat": 4,
 "nbformat_minor": 5
}
